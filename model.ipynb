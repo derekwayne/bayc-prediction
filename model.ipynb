{
 "cells": [
  {
   "cell_type": "code",
   "execution_count": 130,
   "metadata": {},
   "outputs": [],
   "source": [
    "import matplotlib.pyplot as plt\n",
    "import numpy as np\n",
    "import pandas as pd\n",
    "from sklearn.model_selection import train_test_split, cross_validate, GridSearchCV\n",
    "from sklearn.ensemble import RandomForestRegressor\n",
    "from sklearn.linear_model import LinearRegression, HuberRegressor, RANSACRegressor\n",
    "from sklearn.neighbors import KNeighborsRegressor\n",
    "from sklearn import metrics\n",
    "from sklearn import svm\n",
    "from typing import List"
   ]
  },
  {
   "cell_type": "code",
   "execution_count": 131,
   "metadata": {},
   "outputs": [],
   "source": [
    "# display formatting for floats\n",
    "pd.options.display.float_format = '{:,.2f}'.format"
   ]
  },
  {
   "cell_type": "code",
   "execution_count": 132,
   "metadata": {},
   "outputs": [],
   "source": [
    "df = pd.read_csv('processed.csv')"
   ]
  },
  {
   "cell_type": "code",
   "execution_count": 133,
   "metadata": {},
   "outputs": [],
   "source": [
    "exclude_features = [\n",
    "    'TokenId', 'LastSalePrice', 'LastSaleToken',\n",
    "    'SaleDate', 'USDPrice', 'USDPriceEWM', 'PctExtensionEWM',\n",
    "    'PctExtensionEWMScaled'\n",
    "]\n",
    "# remove the rarity features since they are completely correlated with the categoricals\n",
    "exclude_features.extend([feature for feature in df.columns if 'Rarity' in feature])\n",
    "features = [feature for feature in df.columns if feature not in exclude_features]"
   ]
  },
  {
   "cell_type": "code",
   "execution_count": 134,
   "metadata": {},
   "outputs": [],
   "source": [
    "X = df.loc[:, features]\n",
    "y = df['PctExtensionEWMScaled']\n",
    "X_train, X_test, y_train, y_test = train_test_split(X, y, test_size=0.33, random_state=42)"
   ]
  },
  {
   "cell_type": "markdown",
   "metadata": {},
   "source": [
    "## Model Selection"
   ]
  },
  {
   "cell_type": "code",
   "execution_count": 135,
   "metadata": {},
   "outputs": [],
   "source": [
    "def model_selection(models: List[dict], scores: List[str], X_train, y_train) -> dict:\n",
    "    \"\"\"Find the best model\"\"\"\n",
    "    results = {}\n",
    "    for candidate in models:\n",
    "        model = GridSearchCV(\n",
    "            candidate['constructor'], param_grid=candidate['param_grid'], scoring=scores\n",
    "        )\n",
    "        model.fit(X_train, y_train)\n",
    "        mean_test_score = model.cv_results_['mean_test_score'].mean()\n",
    "        results[candidate['name']] = mean_test_score\n",
    "    print(\"The winner is: {}\".format(\n",
    "        max(results, key=results.get)\n",
    "    ))\n",
    "    return results"
   ]
  },
  {
   "cell_type": "code",
   "execution_count": 136,
   "metadata": {},
   "outputs": [
    {
     "name": "stdout",
     "output_type": "stream",
     "text": [
      "The winner is: Huber\n"
     ]
    },
    {
     "data": {
      "text/plain": [
       "{'LinearRegression': -0.29138514845578356,\n",
       " 'RandomForest': -0.29799584700111303,\n",
       " 'Huber': -0.29060667569340926}"
      ]
     },
     "execution_count": 136,
     "metadata": {},
     "output_type": "execute_result"
    }
   ],
   "source": [
    "models = [\n",
    "    {\n",
    "        'name': 'LinearRegression',\n",
    "        'constructor': LinearRegression(),\n",
    "        'param_grid': {}\n",
    "    },\n",
    "    {\n",
    "        'name': 'RandomForest',\n",
    "        'constructor': RandomForestRegressor(random_state=0),\n",
    "        'param_grid': {}\n",
    "    },\n",
    "    {\n",
    "        'name': 'Huber',\n",
    "        'constructor': HuberRegressor(),\n",
    "        'param_grid': {'epsilon': [3, 5], 'max_iter': [800]}\n",
    "    }\n",
    "]\n",
    "model_selection(models, 'neg_root_mean_squared_error', X_train, y_train)"
   ]
  },
  {
   "cell_type": "code",
   "execution_count": 123,
   "metadata": {},
   "outputs": [],
   "source": [
    "model = LinearRegression().fit(X_train, y_train)\n",
    "y_actual, y_pred = y_test, model.predict(X_test)\n",
    "predict_df = pd.DataFrame({'Actual': y_actual, 'Predicted': y_pred})"
   ]
  },
  {
   "cell_type": "code",
   "execution_count": 124,
   "metadata": {},
   "outputs": [
    {
     "data": {
      "text/plain": [
       "0.03288528756606573"
      ]
     },
     "execution_count": 124,
     "metadata": {},
     "output_type": "execute_result"
    }
   ],
   "source": [
    "metrics.mean_squared_error(y_test, y_pred)"
   ]
  },
  {
   "cell_type": "code",
   "execution_count": 125,
   "metadata": {},
   "outputs": [
    {
     "data": {
      "text/plain": [
       "0.10955962534559083"
      ]
     },
     "execution_count": 125,
     "metadata": {},
     "output_type": "execute_result"
    }
   ],
   "source": [
    "metrics.mean_absolute_error(y_test, y_pred)"
   ]
  },
  {
   "cell_type": "code",
   "execution_count": 111,
   "metadata": {},
   "outputs": [],
   "source": [
    "predicted_merged = df.merge(predict_df, how='left', left_index=True, right_index=True)\n",
    "predicted_merged = predicted_merged.loc[~predicted_merged['Predicted'].isna()]"
   ]
  },
  {
   "cell_type": "code",
   "execution_count": 112,
   "metadata": {},
   "outputs": [],
   "source": [
    "cols = predicted_merged.columns[0:]\n",
    "pm = predicted_merged.loc[:, ['TokenId', 'SaleDate', 'USDPriceEWM', 'Actual', 'Predicted', 'USDPrice', 'PctExtensionEWM']]"
   ]
  },
  {
   "cell_type": "code",
   "execution_count": 113,
   "metadata": {},
   "outputs": [],
   "source": [
    "pm['PredictedUSDPrice'] = pm['USDPriceEWM'] * (1 + np.exp(pm['Predicted']) - 2)"
   ]
  },
  {
   "cell_type": "code",
   "execution_count": 114,
   "metadata": {},
   "outputs": [
    {
     "data": {
      "text/html": [
       "<div>\n",
       "<style scoped>\n",
       "    .dataframe tbody tr th:only-of-type {\n",
       "        vertical-align: middle;\n",
       "    }\n",
       "\n",
       "    .dataframe tbody tr th {\n",
       "        vertical-align: top;\n",
       "    }\n",
       "\n",
       "    .dataframe thead th {\n",
       "        text-align: right;\n",
       "    }\n",
       "</style>\n",
       "<table border=\"1\" class=\"dataframe\">\n",
       "  <thead>\n",
       "    <tr style=\"text-align: right;\">\n",
       "      <th></th>\n",
       "      <th>TokenId</th>\n",
       "      <th>SaleDate</th>\n",
       "      <th>USDPriceEWM</th>\n",
       "      <th>Actual</th>\n",
       "      <th>Predicted</th>\n",
       "      <th>USDPrice</th>\n",
       "      <th>PctExtensionEWM</th>\n",
       "      <th>PredictedUSDPrice</th>\n",
       "    </tr>\n",
       "  </thead>\n",
       "  <tbody>\n",
       "    <tr>\n",
       "      <th>6751</th>\n",
       "      <td>2756</td>\n",
       "      <td>2021-08-29 06:09:31.069553</td>\n",
       "      <td>195,464.08</td>\n",
       "      <td>0.66</td>\n",
       "      <td>0.70</td>\n",
       "      <td>183,863.26</td>\n",
       "      <td>-0.06</td>\n",
       "      <td>197,831.09</td>\n",
       "    </tr>\n",
       "    <tr>\n",
       "      <th>6756</th>\n",
       "      <td>4048</td>\n",
       "      <td>2021-08-29 08:12:58.347661</td>\n",
       "      <td>197,430.79</td>\n",
       "      <td>0.74</td>\n",
       "      <td>0.64</td>\n",
       "      <td>215,066.77</td>\n",
       "      <td>0.09</td>\n",
       "      <td>178,006.65</td>\n",
       "    </tr>\n",
       "    <tr>\n",
       "      <th>807</th>\n",
       "      <td>6209</td>\n",
       "      <td>2021-05-02 19:32:51.688379</td>\n",
       "      <td>3,355.29</td>\n",
       "      <td>0.68</td>\n",
       "      <td>0.77</td>\n",
       "      <td>3,293.31</td>\n",
       "      <td>-0.02</td>\n",
       "      <td>3,876.96</td>\n",
       "    </tr>\n",
       "    <tr>\n",
       "      <th>5389</th>\n",
       "      <td>5332</td>\n",
       "      <td>2021-08-01 19:49:16.979982</td>\n",
       "      <td>42,993.44</td>\n",
       "      <td>0.62</td>\n",
       "      <td>0.64</td>\n",
       "      <td>36,843.93</td>\n",
       "      <td>-0.14</td>\n",
       "      <td>38,552.34</td>\n",
       "    </tr>\n",
       "    <tr>\n",
       "      <th>927</th>\n",
       "      <td>9374</td>\n",
       "      <td>2021-05-03 00:18:45.971249</td>\n",
       "      <td>3,034.31</td>\n",
       "      <td>0.52</td>\n",
       "      <td>0.67</td>\n",
       "      <td>2,055.05</td>\n",
       "      <td>-0.32</td>\n",
       "      <td>2,893.40</td>\n",
       "    </tr>\n",
       "    <tr>\n",
       "      <th>4902</th>\n",
       "      <td>182</td>\n",
       "      <td>2021-07-17 00:09:58.883227</td>\n",
       "      <td>31,120.93</td>\n",
       "      <td>0.60</td>\n",
       "      <td>0.57</td>\n",
       "      <td>25,474.68</td>\n",
       "      <td>-0.18</td>\n",
       "      <td>23,901.83</td>\n",
       "    </tr>\n",
       "    <tr>\n",
       "      <th>3014</th>\n",
       "      <td>593</td>\n",
       "      <td>2021-06-07 11:12:00.135966</td>\n",
       "      <td>7,202.13</td>\n",
       "      <td>0.76</td>\n",
       "      <td>0.62</td>\n",
       "      <td>8,189.90</td>\n",
       "      <td>0.14</td>\n",
       "      <td>6,130.74</td>\n",
       "    </tr>\n",
       "    <tr>\n",
       "      <th>1832</th>\n",
       "      <td>5500</td>\n",
       "      <td>2021-05-20 11:55:22.800064</td>\n",
       "      <td>1,755.19</td>\n",
       "      <td>0.66</td>\n",
       "      <td>0.69</td>\n",
       "      <td>1,649.49</td>\n",
       "      <td>-0.06</td>\n",
       "      <td>1,729.37</td>\n",
       "    </tr>\n",
       "    <tr>\n",
       "      <th>764</th>\n",
       "      <td>8348</td>\n",
       "      <td>2021-05-02 18:13:04.668143</td>\n",
       "      <td>1,857.22</td>\n",
       "      <td>0.63</td>\n",
       "      <td>0.58</td>\n",
       "      <td>1,642.54</td>\n",
       "      <td>-0.12</td>\n",
       "      <td>1,475.95</td>\n",
       "    </tr>\n",
       "    <tr>\n",
       "      <th>6126</th>\n",
       "      <td>2645</td>\n",
       "      <td>2021-08-21 01:30:04.433037</td>\n",
       "      <td>101,602.74</td>\n",
       "      <td>0.58</td>\n",
       "      <td>0.64</td>\n",
       "      <td>79,851.52</td>\n",
       "      <td>-0.21</td>\n",
       "      <td>90,756.04</td>\n",
       "    </tr>\n",
       "  </tbody>\n",
       "</table>\n",
       "</div>"
      ],
      "text/plain": [
       "      TokenId                    SaleDate  USDPriceEWM  Actual  Predicted  \\\n",
       "6751     2756  2021-08-29 06:09:31.069553   195,464.08    0.66       0.70   \n",
       "6756     4048  2021-08-29 08:12:58.347661   197,430.79    0.74       0.64   \n",
       "807      6209  2021-05-02 19:32:51.688379     3,355.29    0.68       0.77   \n",
       "5389     5332  2021-08-01 19:49:16.979982    42,993.44    0.62       0.64   \n",
       "927      9374  2021-05-03 00:18:45.971249     3,034.31    0.52       0.67   \n",
       "4902      182  2021-07-17 00:09:58.883227    31,120.93    0.60       0.57   \n",
       "3014      593  2021-06-07 11:12:00.135966     7,202.13    0.76       0.62   \n",
       "1832     5500  2021-05-20 11:55:22.800064     1,755.19    0.66       0.69   \n",
       "764      8348  2021-05-02 18:13:04.668143     1,857.22    0.63       0.58   \n",
       "6126     2645  2021-08-21 01:30:04.433037   101,602.74    0.58       0.64   \n",
       "\n",
       "       USDPrice  PctExtensionEWM  PredictedUSDPrice  \n",
       "6751 183,863.26            -0.06         197,831.09  \n",
       "6756 215,066.77             0.09         178,006.65  \n",
       "807    3,293.31            -0.02           3,876.96  \n",
       "5389  36,843.93            -0.14          38,552.34  \n",
       "927    2,055.05            -0.32           2,893.40  \n",
       "4902  25,474.68            -0.18          23,901.83  \n",
       "3014   8,189.90             0.14           6,130.74  \n",
       "1832   1,649.49            -0.06           1,729.37  \n",
       "764    1,642.54            -0.12           1,475.95  \n",
       "6126  79,851.52            -0.21          90,756.04  "
      ]
     },
     "execution_count": 114,
     "metadata": {},
     "output_type": "execute_result"
    }
   ],
   "source": [
    "pm.sample(10)"
   ]
  },
  {
   "cell_type": "code",
   "execution_count": 115,
   "metadata": {},
   "outputs": [],
   "source": [
    "pm['Accuracy'] = 1 - abs(pm['PredictedUSDPrice'] - pm['USDPrice']) / ((pm['PredictedUSDPrice'] + pm['USDPrice']) / 2)"
   ]
  },
  {
   "cell_type": "code",
   "execution_count": 116,
   "metadata": {},
   "outputs": [
    {
     "data": {
      "text/html": [
       "<div>\n",
       "<style scoped>\n",
       "    .dataframe tbody tr th:only-of-type {\n",
       "        vertical-align: middle;\n",
       "    }\n",
       "\n",
       "    .dataframe tbody tr th {\n",
       "        vertical-align: top;\n",
       "    }\n",
       "\n",
       "    .dataframe thead th {\n",
       "        text-align: right;\n",
       "    }\n",
       "</style>\n",
       "<table border=\"1\" class=\"dataframe\">\n",
       "  <thead>\n",
       "    <tr style=\"text-align: right;\">\n",
       "      <th></th>\n",
       "      <th>TokenId</th>\n",
       "      <th>SaleDate</th>\n",
       "      <th>USDPriceEWM</th>\n",
       "      <th>Actual</th>\n",
       "      <th>Predicted</th>\n",
       "      <th>USDPrice</th>\n",
       "      <th>PctExtensionEWM</th>\n",
       "      <th>PredictedUSDPrice</th>\n",
       "      <th>Accuracy</th>\n",
       "    </tr>\n",
       "  </thead>\n",
       "  <tbody>\n",
       "    <tr>\n",
       "      <th>677</th>\n",
       "      <td>7956</td>\n",
       "      <td>2021-05-02 14:21:35.124516</td>\n",
       "      <td>4,598.12</td>\n",
       "      <td>0.24</td>\n",
       "      <td>0.63</td>\n",
       "      <td>1,234.99</td>\n",
       "      <td>-0.73</td>\n",
       "      <td>4,050.16</td>\n",
       "      <td>-0.07</td>\n",
       "    </tr>\n",
       "    <tr>\n",
       "      <th>347</th>\n",
       "      <td>3072</td>\n",
       "      <td>2021-05-01 21:37:54.863153</td>\n",
       "      <td>1,551.30</td>\n",
       "      <td>1.36</td>\n",
       "      <td>2.36</td>\n",
       "      <td>4,503.80</td>\n",
       "      <td>1.90</td>\n",
       "      <td>14,800.44</td>\n",
       "      <td>-0.07</td>\n",
       "    </tr>\n",
       "    <tr>\n",
       "      <th>3580</th>\n",
       "      <td>5501</td>\n",
       "      <td>2021-06-17 13:59:00.894387</td>\n",
       "      <td>13,336.71</td>\n",
       "      <td>1.73</td>\n",
       "      <td>0.87</td>\n",
       "      <td>61,749.60</td>\n",
       "      <td>3.63</td>\n",
       "      <td>18,523.19</td>\n",
       "      <td>-0.08</td>\n",
       "    </tr>\n",
       "    <tr>\n",
       "      <th>468</th>\n",
       "      <td>1232</td>\n",
       "      <td>2021-05-02 03:06:17.942644</td>\n",
       "      <td>1,116.43</td>\n",
       "      <td>1.54</td>\n",
       "      <td>0.74</td>\n",
       "      <td>4,094.95</td>\n",
       "      <td>2.67</td>\n",
       "      <td>1,227.36</td>\n",
       "      <td>-0.08</td>\n",
       "    </tr>\n",
       "    <tr>\n",
       "      <th>2722</th>\n",
       "      <td>8577</td>\n",
       "      <td>2021-06-03 12:36:27.907681</td>\n",
       "      <td>5,026.15</td>\n",
       "      <td>1.70</td>\n",
       "      <td>0.83</td>\n",
       "      <td>22,605.60</td>\n",
       "      <td>3.50</td>\n",
       "      <td>6,490.92</td>\n",
       "      <td>-0.11</td>\n",
       "    </tr>\n",
       "    <tr>\n",
       "      <th>1032</th>\n",
       "      <td>8408</td>\n",
       "      <td>2021-05-03 05:09:17.027961</td>\n",
       "      <td>2,491.87</td>\n",
       "      <td>1.64</td>\n",
       "      <td>0.78</td>\n",
       "      <td>10,291.60</td>\n",
       "      <td>3.13</td>\n",
       "      <td>2,951.20</td>\n",
       "      <td>-0.11</td>\n",
       "    </tr>\n",
       "    <tr>\n",
       "      <th>1833</th>\n",
       "      <td>5708</td>\n",
       "      <td>2021-05-20 14:02:38.022520</td>\n",
       "      <td>1,739.53</td>\n",
       "      <td>2.09</td>\n",
       "      <td>1.11</td>\n",
       "      <td>12,349.92</td>\n",
       "      <td>6.10</td>\n",
       "      <td>3,539.83</td>\n",
       "      <td>-0.11</td>\n",
       "    </tr>\n",
       "    <tr>\n",
       "      <th>37</th>\n",
       "      <td>3584</td>\n",
       "      <td>2021-05-01 08:23:07.457600</td>\n",
       "      <td>403.40</td>\n",
       "      <td>2.21</td>\n",
       "      <td>1.19</td>\n",
       "      <td>3,275.49</td>\n",
       "      <td>7.12</td>\n",
       "      <td>923.08</td>\n",
       "      <td>-0.12</td>\n",
       "    </tr>\n",
       "    <tr>\n",
       "      <th>2034</th>\n",
       "      <td>2429</td>\n",
       "      <td>2021-05-28 03:08:05.314815</td>\n",
       "      <td>2,246.35</td>\n",
       "      <td>1.72</td>\n",
       "      <td>0.82</td>\n",
       "      <td>10,237.38</td>\n",
       "      <td>3.56</td>\n",
       "      <td>2,845.53</td>\n",
       "      <td>-0.13</td>\n",
       "    </tr>\n",
       "    <tr>\n",
       "      <th>856</th>\n",
       "      <td>6736</td>\n",
       "      <td>2021-05-02 21:14:10.268598</td>\n",
       "      <td>2,238.89</td>\n",
       "      <td>1.72</td>\n",
       "      <td>0.82</td>\n",
       "      <td>10,291.60</td>\n",
       "      <td>3.60</td>\n",
       "      <td>2,837.04</td>\n",
       "      <td>-0.14</td>\n",
       "    </tr>\n",
       "    <tr>\n",
       "      <th>50</th>\n",
       "      <td>9854</td>\n",
       "      <td>2021-05-01 08:48:50.972259</td>\n",
       "      <td>483.32</td>\n",
       "      <td>0.62</td>\n",
       "      <td>1.42</td>\n",
       "      <td>411.01</td>\n",
       "      <td>-0.15</td>\n",
       "      <td>1,522.94</td>\n",
       "      <td>-0.15</td>\n",
       "    </tr>\n",
       "    <tr>\n",
       "      <th>5159</th>\n",
       "      <td>7653</td>\n",
       "      <td>2021-07-24 12:58:02.900963</td>\n",
       "      <td>31,221.55</td>\n",
       "      <td>1.29</td>\n",
       "      <td>2.38</td>\n",
       "      <td>82,332.80</td>\n",
       "      <td>1.64</td>\n",
       "      <td>306,041.87</td>\n",
       "      <td>-0.15</td>\n",
       "    </tr>\n",
       "    <tr>\n",
       "      <th>425</th>\n",
       "      <td>7901</td>\n",
       "      <td>2021-05-02 00:30:20.806901</td>\n",
       "      <td>1,231.68</td>\n",
       "      <td>2.24</td>\n",
       "      <td>1.10</td>\n",
       "      <td>10,291.60</td>\n",
       "      <td>7.36</td>\n",
       "      <td>2,471.31</td>\n",
       "      <td>-0.23</td>\n",
       "    </tr>\n",
       "    <tr>\n",
       "      <th>1726</th>\n",
       "      <td>6132</td>\n",
       "      <td>2021-05-15 13:03:00.890542</td>\n",
       "      <td>1,931.07</td>\n",
       "      <td>2.00</td>\n",
       "      <td>0.91</td>\n",
       "      <td>12,371.19</td>\n",
       "      <td>5.41</td>\n",
       "      <td>2,884.99</td>\n",
       "      <td>-0.24</td>\n",
       "    </tr>\n",
       "    <tr>\n",
       "      <th>87</th>\n",
       "      <td>9542</td>\n",
       "      <td>2021-05-01 09:40:26.046557</td>\n",
       "      <td>1,151.26</td>\n",
       "      <td>1.01</td>\n",
       "      <td>2.30</td>\n",
       "      <td>2,013.95</td>\n",
       "      <td>0.75</td>\n",
       "      <td>10,284.98</td>\n",
       "      <td>-0.34</td>\n",
       "    </tr>\n",
       "    <tr>\n",
       "      <th>1563</th>\n",
       "      <td>5093</td>\n",
       "      <td>2021-05-07 23:12:06.112103</td>\n",
       "      <td>2,074.31</td>\n",
       "      <td>2.30</td>\n",
       "      <td>0.94</td>\n",
       "      <td>18,524.88</td>\n",
       "      <td>7.93</td>\n",
       "      <td>3,227.05</td>\n",
       "      <td>-0.41</td>\n",
       "    </tr>\n",
       "    <tr>\n",
       "      <th>3887</th>\n",
       "      <td>7969</td>\n",
       "      <td>2021-06-20 16:05:59.801822</td>\n",
       "      <td>21,607.88</td>\n",
       "      <td>0.17</td>\n",
       "      <td>0.78</td>\n",
       "      <td>4,123.73</td>\n",
       "      <td>-0.81</td>\n",
       "      <td>25,652.72</td>\n",
       "      <td>-0.45</td>\n",
       "    </tr>\n",
       "    <tr>\n",
       "      <th>6957</th>\n",
       "      <td>2550</td>\n",
       "      <td>2021-09-02 21:30:22.975400</td>\n",
       "      <td>267,201.23</td>\n",
       "      <td>0.83</td>\n",
       "      <td>2.34</td>\n",
       "      <td>348,070.75</td>\n",
       "      <td>0.30</td>\n",
       "      <td>2,503,420.96</td>\n",
       "      <td>-0.51</td>\n",
       "    </tr>\n",
       "    <tr>\n",
       "      <th>177</th>\n",
       "      <td>6217</td>\n",
       "      <td>2021-05-01 13:40:50.970595</td>\n",
       "      <td>1,443.57</td>\n",
       "      <td>2.16</td>\n",
       "      <td>0.64</td>\n",
       "      <td>11,073.76</td>\n",
       "      <td>6.67</td>\n",
       "      <td>1,300.46</td>\n",
       "      <td>-0.58</td>\n",
       "    </tr>\n",
       "    <tr>\n",
       "      <th>19</th>\n",
       "      <td>1210</td>\n",
       "      <td>2021-05-01 07:31:17.730489</td>\n",
       "      <td>486.14</td>\n",
       "      <td>3.27</td>\n",
       "      <td>0.73</td>\n",
       "      <td>12,284.85</td>\n",
       "      <td>24.27</td>\n",
       "      <td>522.07</td>\n",
       "      <td>-0.84</td>\n",
       "    </tr>\n",
       "  </tbody>\n",
       "</table>\n",
       "</div>"
      ],
      "text/plain": [
       "      TokenId                    SaleDate  USDPriceEWM  Actual  Predicted  \\\n",
       "677      7956  2021-05-02 14:21:35.124516     4,598.12    0.24       0.63   \n",
       "347      3072  2021-05-01 21:37:54.863153     1,551.30    1.36       2.36   \n",
       "3580     5501  2021-06-17 13:59:00.894387    13,336.71    1.73       0.87   \n",
       "468      1232  2021-05-02 03:06:17.942644     1,116.43    1.54       0.74   \n",
       "2722     8577  2021-06-03 12:36:27.907681     5,026.15    1.70       0.83   \n",
       "1032     8408  2021-05-03 05:09:17.027961     2,491.87    1.64       0.78   \n",
       "1833     5708  2021-05-20 14:02:38.022520     1,739.53    2.09       1.11   \n",
       "37       3584  2021-05-01 08:23:07.457600       403.40    2.21       1.19   \n",
       "2034     2429  2021-05-28 03:08:05.314815     2,246.35    1.72       0.82   \n",
       "856      6736  2021-05-02 21:14:10.268598     2,238.89    1.72       0.82   \n",
       "50       9854  2021-05-01 08:48:50.972259       483.32    0.62       1.42   \n",
       "5159     7653  2021-07-24 12:58:02.900963    31,221.55    1.29       2.38   \n",
       "425      7901  2021-05-02 00:30:20.806901     1,231.68    2.24       1.10   \n",
       "1726     6132  2021-05-15 13:03:00.890542     1,931.07    2.00       0.91   \n",
       "87       9542  2021-05-01 09:40:26.046557     1,151.26    1.01       2.30   \n",
       "1563     5093  2021-05-07 23:12:06.112103     2,074.31    2.30       0.94   \n",
       "3887     7969  2021-06-20 16:05:59.801822    21,607.88    0.17       0.78   \n",
       "6957     2550  2021-09-02 21:30:22.975400   267,201.23    0.83       2.34   \n",
       "177      6217  2021-05-01 13:40:50.970595     1,443.57    2.16       0.64   \n",
       "19       1210  2021-05-01 07:31:17.730489       486.14    3.27       0.73   \n",
       "\n",
       "       USDPrice  PctExtensionEWM  PredictedUSDPrice  Accuracy  \n",
       "677    1,234.99            -0.73           4,050.16     -0.07  \n",
       "347    4,503.80             1.90          14,800.44     -0.07  \n",
       "3580  61,749.60             3.63          18,523.19     -0.08  \n",
       "468    4,094.95             2.67           1,227.36     -0.08  \n",
       "2722  22,605.60             3.50           6,490.92     -0.11  \n",
       "1032  10,291.60             3.13           2,951.20     -0.11  \n",
       "1833  12,349.92             6.10           3,539.83     -0.11  \n",
       "37     3,275.49             7.12             923.08     -0.12  \n",
       "2034  10,237.38             3.56           2,845.53     -0.13  \n",
       "856   10,291.60             3.60           2,837.04     -0.14  \n",
       "50       411.01            -0.15           1,522.94     -0.15  \n",
       "5159  82,332.80             1.64         306,041.87     -0.15  \n",
       "425   10,291.60             7.36           2,471.31     -0.23  \n",
       "1726  12,371.19             5.41           2,884.99     -0.24  \n",
       "87     2,013.95             0.75          10,284.98     -0.34  \n",
       "1563  18,524.88             7.93           3,227.05     -0.41  \n",
       "3887   4,123.73            -0.81          25,652.72     -0.45  \n",
       "6957 348,070.75             0.30       2,503,420.96     -0.51  \n",
       "177   11,073.76             6.67           1,300.46     -0.58  \n",
       "19    12,284.85            24.27             522.07     -0.84  "
      ]
     },
     "execution_count": 116,
     "metadata": {},
     "output_type": "execute_result"
    }
   ],
   "source": [
    "pm.sort_values('Accuracy', ascending=False).tail(20)"
   ]
  },
  {
   "cell_type": "code",
   "execution_count": 117,
   "metadata": {},
   "outputs": [],
   "source": [
    "def valuate(token_id, df, features, current_price_ewa):\n",
    "    token_data = df.loc[df['TokenId']==token_id, features]\n",
    "    y_pred = model.predict(token_data)\n",
    "    return float(current_price_ewa * (1 + y_pred))"
   ]
  },
  {
   "cell_type": "code",
   "execution_count": 118,
   "metadata": {},
   "outputs": [
    {
     "data": {
      "text/plain": [
       "756259.6116017429"
      ]
     },
     "execution_count": 118,
     "metadata": {},
     "output_type": "execute_result"
    }
   ],
   "source": [
    "valuate(9361, df, features, df.sort_values('SaleDate', ascending=False)['USDPriceEWM'].iloc[0])"
   ]
  },
  {
   "cell_type": "code",
   "execution_count": 119,
   "metadata": {},
   "outputs": [],
   "source": [
    "import seaborn as sns"
   ]
  },
  {
   "cell_type": "code",
   "execution_count": 120,
   "metadata": {},
   "outputs": [
    {
     "data": {
      "text/plain": [
       "<AxesSubplot:xlabel='Accuracy', ylabel='Count'>"
      ]
     },
     "execution_count": 120,
     "metadata": {},
     "output_type": "execute_result"
    },
    {
     "data": {
      "image/png": "[encoded data removed]",
      "text/plain": [
       "<Figure size 432x288 with 1 Axes>"
      ]
     },
     "metadata": {
      "needs_background": "light"
     },
     "output_type": "display_data"
    }
   ],
   "source": [
    "sns.histplot(pm['Accuracy'])"
   ]
  },
  {
   "cell_type": "markdown",
   "metadata": {},
   "source": [
    "## Stacking"
   ]
  },
  {
   "cell_type": "code",
   "execution_count": 106,
   "metadata": {},
   "outputs": [],
   "source": [
    "from sklearn.ensemble import VotingRegressor"
   ]
  },
  {
   "cell_type": "code",
   "execution_count": 92,
   "metadata": {},
   "outputs": [],
   "source": [
    "estimators = [('randomforest', RandomForestRegressor(random_state=42)),\n",
    "              ('linear', LinearRegression()),\n",
    "              ('huber', HuberRegressor(epsilon=5, max_iter=800))]"
   ]
  },
  {
   "cell_type": "code",
   "execution_count": 107,
   "metadata": {},
   "outputs": [],
   "source": [
    "ereg = VotingRegressor(estimators)"
   ]
  },
  {
   "cell_type": "code",
   "execution_count": 108,
   "metadata": {},
   "outputs": [
    {
     "data": {
      "text/plain": [
       "VotingRegressor(estimators=[('randomforest',\n",
       "                             RandomForestRegressor(random_state=42)),\n",
       "                            ('linear', LinearRegression()),\n",
       "                            ('huber', HuberRegressor(epsilon=5, max_iter=800))])"
      ]
     },
     "execution_count": 108,
     "metadata": {},
     "output_type": "execute_result"
    }
   ],
   "source": [
    "ereg.fit(X_train, y_train)"
   ]
  },
  {
   "cell_type": "code",
   "execution_count": 109,
   "metadata": {},
   "outputs": [
    {
     "data": {
      "text/plain": [
       "-0.03194413891310145"
      ]
     },
     "execution_count": 109,
     "metadata": {},
     "output_type": "execute_result"
    }
   ],
   "source": [
    "y_actual, y_pred = y_test, ereg.predict(X_test)\n",
    "predict_df = pd.DataFrame({'Actual': y_actual, 'Predicted': y_pred})\n",
    "from sklearn import metrics\n",
    "-metrics.mean_squared_error(y_test, y_pred)"
   ]
  },
  {
   "cell_type": "code",
   "execution_count": 126,
   "metadata": {},
   "outputs": [
    {
     "data": {
      "text/plain": [
       "0.10955962534559083"
      ]
     },
     "execution_count": 126,
     "metadata": {},
     "output_type": "execute_result"
    }
   ],
   "source": [
    "metrics.mean_absolute_error(y_test, y_pred)"
   ]
  },
  {
   "cell_type": "code",
   "execution_count": 129,
   "metadata": {},
   "outputs": [
    {
     "data": {
      "text/plain": [
       "{'fit_time': array([7.61779213, 7.52373958, 8.06214786]),\n",
       " 'score_time': array([0.08537173, 0.09670281, 0.09707713]),\n",
       " 'test_r2': array([0.64159113, 0.67477462, 0.67572834]),\n",
       " 'train_r2': array([0.8162314 , 0.80844377, 0.81071263]),\n",
       " 'test_neg_mean_squared_error': array([-0.03243291, -0.02776962, -0.0255343 ]),\n",
       " 'train_neg_mean_squared_error': array([-0.0150842 , -0.01620904, -0.0166498 ])}"
      ]
     },
     "execution_count": 129,
     "metadata": {},
     "output_type": "execute_result"
    }
   ],
   "source": [
    "cross_validate(ereg, X_train, y_train, cv=3,\n",
    "               scoring=('r2', 'neg_mean_squared_error'),\n",
    "               return_train_score=True)"
   ]
  }
 ],
 "metadata": {
  "kernelspec": {
   "display_name": "nft",
   "language": "python",
   "name": "nft"
  },
  "language_info": {
   "codemirror_mode": {
    "name": "ipython",
    "version": 3
   },
   "file_extension": ".py",
   "mimetype": "text/x-python",
   "name": "python",
   "nbconvert_exporter": "python",
   "pygments_lexer": "ipython3",
   "version": "3.8.12"
  }
 },
 "nbformat": 4,
 "nbformat_minor": 4
}
